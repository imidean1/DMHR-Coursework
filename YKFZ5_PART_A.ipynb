{
 "cells": [
  {
   "cell_type": "markdown",
   "metadata": {},
   "source": [
    "# An Analysis of NHS Primary Care Prescribing Information \n",
    "\n",
    "In order to ensure a resiliantly resourced NHS an analysis of primary care prescribing was comissioned in order to identify any efficencies that could be made. \n",
    "\n",
    "The following analysis is based on the 2018 GP Prescribing Dataset (2018)\n",
    "\n",
    "\n",
    "## This first section of code will deal with importing the packages needed as well as importing datasets"
   ]
  },
  {
   "cell_type": "code",
   "execution_count": 1,
   "metadata": {},
   "outputs": [],
   "source": [
    "# Prior to starting any analysis its good practice to import all libraries first\n",
    "import pandasql as psql\n",
    "import numpy as np \n",
    "import pandas as pd "
   ]
  },
  {
   "cell_type": "code",
   "execution_count": 2,
   "metadata": {},
   "outputs": [
    {
     "name": "stdout",
     "output_type": "stream",
     "text": [
      "/Users/imzy/Desktop/Python/Prescribe\n",
      "/Users/imzy/Desktop/Python/Prescribe\n"
     ]
    }
   ],
   "source": [
    "#Setting working directorty \n",
    "%cd /Users/imzy/Desktop/Python/Prescribe\n",
    "! pwd"
   ]
  },
  {
   "cell_type": "code",
   "execution_count": 8,
   "metadata": {},
   "outputs": [
    {
     "data": {
      "text/html": [
       "<div>\n",
       "<style scoped>\n",
       "    .dataframe tbody tr th:only-of-type {\n",
       "        vertical-align: middle;\n",
       "    }\n",
       "\n",
       "    .dataframe tbody tr th {\n",
       "        vertical-align: top;\n",
       "    }\n",
       "\n",
       "    .dataframe thead th {\n",
       "        text-align: right;\n",
       "    }\n",
       "</style>\n",
       "<table border=\"1\" class=\"dataframe\">\n",
       "  <thead>\n",
       "    <tr style=\"text-align: right;\">\n",
       "      <th></th>\n",
       "      <th>Year</th>\n",
       "      <th>Practice_ID</th>\n",
       "      <th>Pract_name</th>\n",
       "      <th>Add_1</th>\n",
       "      <th>Add_2</th>\n",
       "      <th>City</th>\n",
       "      <th>Region</th>\n",
       "      <th>Post_code</th>\n",
       "    </tr>\n",
       "  </thead>\n",
       "  <tbody>\n",
       "    <tr>\n",
       "      <th>0</th>\n",
       "      <td>201804</td>\n",
       "      <td>A81001</td>\n",
       "      <td>THE DENSHAM SURGERY</td>\n",
       "      <td>THE HEALTH CENTRE</td>\n",
       "      <td>LAWSON STREET</td>\n",
       "      <td>STOCKTON-ON-TEES</td>\n",
       "      <td>CLEVELAND</td>\n",
       "      <td>TS18 1HU</td>\n",
       "    </tr>\n",
       "    <tr>\n",
       "      <th>1</th>\n",
       "      <td>201804</td>\n",
       "      <td>A81002</td>\n",
       "      <td>QUEENS PARK MEDICAL CENTRE</td>\n",
       "      <td>QUEENS PARK MEDICAL CTR</td>\n",
       "      <td>FARRER STREET</td>\n",
       "      <td>STOCKTON ON TEES</td>\n",
       "      <td>CLEVELAND</td>\n",
       "      <td>TS18 2AW</td>\n",
       "    </tr>\n",
       "    <tr>\n",
       "      <th>2</th>\n",
       "      <td>201804</td>\n",
       "      <td>A81004</td>\n",
       "      <td>BLUEBELL MEDICAL CENTRE</td>\n",
       "      <td>TRIMDON AVENUE</td>\n",
       "      <td>ACKLAM</td>\n",
       "      <td>MIDDLESBROUGH</td>\n",
       "      <td></td>\n",
       "      <td>TS5 8SB</td>\n",
       "    </tr>\n",
       "    <tr>\n",
       "      <th>3</th>\n",
       "      <td>201804</td>\n",
       "      <td>A81005</td>\n",
       "      <td>SPRINGWOOD SURGERY</td>\n",
       "      <td>SPRINGWOOD SURGERY</td>\n",
       "      <td>RECTORY LANE</td>\n",
       "      <td>GUISBOROUGH</td>\n",
       "      <td></td>\n",
       "      <td>TS14 7DJ</td>\n",
       "    </tr>\n",
       "    <tr>\n",
       "      <th>4</th>\n",
       "      <td>201804</td>\n",
       "      <td>A81006</td>\n",
       "      <td>TENNANT STREET MEDICAL PRACTICE</td>\n",
       "      <td>TENNANT ST MEDICAL PRACT</td>\n",
       "      <td>TENNANT STREET</td>\n",
       "      <td>STOCKTON-ON-TEES</td>\n",
       "      <td>CLEVELAND</td>\n",
       "      <td>TS18 2AT</td>\n",
       "    </tr>\n",
       "  </tbody>\n",
       "</table>\n",
       "</div>"
      ],
      "text/plain": [
       "     Year Practice_ID                                Pract_name  \\\n",
       "0  201804      A81001  THE DENSHAM SURGERY                        \n",
       "1  201804      A81002  QUEENS PARK MEDICAL CENTRE                 \n",
       "2  201804      A81004  BLUEBELL MEDICAL CENTRE                    \n",
       "3  201804      A81005  SPRINGWOOD SURGERY                         \n",
       "4  201804      A81006  TENNANT STREET MEDICAL PRACTICE            \n",
       "\n",
       "                      Add_1           Add_2              City     Region  \\\n",
       "0         THE HEALTH CENTRE   LAWSON STREET  STOCKTON-ON-TEES  CLEVELAND   \n",
       "1   QUEENS PARK MEDICAL CTR   FARRER STREET  STOCKTON ON TEES  CLEVELAND   \n",
       "2            TRIMDON AVENUE          ACKLAM     MIDDLESBROUGH              \n",
       "3        SPRINGWOOD SURGERY    RECTORY LANE       GUISBOROUGH              \n",
       "4  TENNANT ST MEDICAL PRACT  TENNANT STREET  STOCKTON-ON-TEES  CLEVELAND   \n",
       "\n",
       "  Post_code  \n",
       "0  TS18 1HU  \n",
       "1  TS18 2AW  \n",
       "2   TS5 8SB  \n",
       "3  TS14 7DJ  \n",
       "4  TS18 2AT  "
      ]
     },
     "metadata": {},
     "output_type": "display_data"
    }
   ],
   "source": [
    "#Importing Datasets\n",
    "#The practice name dataset has no header so we create one\n",
    "practice_names= pd.read_csv(\"prac_names.csv\",names =[\"Year\", \"Practice_ID\", \"Pract_name\", \"Add_1\",\"Add_2\",\"City\",\"Region\",\"Post_Code\"],skipinitialspace=True)\n",
    "\n",
    "#We need to get rid of trailing white spaces\n",
    "def strip(text):\n",
    "    try:\n",
    "        return text.strip()\n",
    "    except AttributeError:\n",
    "        return text\n",
    "\n",
    "def make_int(text):\n",
    "    return int(text.strip('\" '))\n",
    "\n",
    "practice_names_edit = pd.read_table(\"prac_names.csv\", sep=r',',\n",
    "                      names=[\"Year\", \"Practice_ID\", \"Pract_name\", \"Add_1\",\"Add_2\",\"City\",\"Region\",\"Post_code\"],\n",
    "                      converters = {'Year' : strip,\n",
    "                                    'Practice_ID' : strip,\n",
    "                                    'Prac_name' : strip,\n",
    "                                    'Add_1' : strip,\n",
    "                                    'Add_2': strip,\n",
    "                                    'City': strip,\n",
    "                                    'Region':strip,\n",
    "                                    'Post_code':strip\n",
    "                                   })\n",
    "display(practice_names_edit.head(5)) \n"
   ]
  },
  {
   "cell_type": "code",
   "execution_count": 9,
   "metadata": {},
   "outputs": [
    {
     "data": {
      "text/html": [
       "<div>\n",
       "<style scoped>\n",
       "    .dataframe tbody tr th:only-of-type {\n",
       "        vertical-align: middle;\n",
       "    }\n",
       "\n",
       "    .dataframe tbody tr th {\n",
       "        vertical-align: top;\n",
       "    }\n",
       "\n",
       "    .dataframe thead th {\n",
       "        text-align: right;\n",
       "    }\n",
       "</style>\n",
       "<table border=\"1\" class=\"dataframe\">\n",
       "  <thead>\n",
       "    <tr style=\"text-align: right;\">\n",
       "      <th></th>\n",
       "      <th>CHEMSUB</th>\n",
       "      <th>NAME</th>\n",
       "      <th></th>\n",
       "    </tr>\n",
       "  </thead>\n",
       "  <tbody>\n",
       "    <tr>\n",
       "      <th>0</th>\n",
       "      <td>0101010A0</td>\n",
       "      <td>Alexitol Sodium                               ...</td>\n",
       "      <td>NaN</td>\n",
       "    </tr>\n",
       "    <tr>\n",
       "      <th>1</th>\n",
       "      <td>0101010B0</td>\n",
       "      <td>Almasilate                                    ...</td>\n",
       "      <td>NaN</td>\n",
       "    </tr>\n",
       "    <tr>\n",
       "      <th>2</th>\n",
       "      <td>0101010C0</td>\n",
       "      <td>Aluminium Hydroxide                           ...</td>\n",
       "      <td>NaN</td>\n",
       "    </tr>\n",
       "  </tbody>\n",
       "</table>\n",
       "</div>"
      ],
      "text/plain": [
       "     CHEMSUB                                               NAME     \n",
       "0  0101010A0  Alexitol Sodium                               ...  NaN\n",
       "1  0101010B0  Almasilate                                    ...  NaN\n",
       "2  0101010C0  Aluminium Hydroxide                           ...  NaN"
      ]
     },
     "metadata": {},
     "output_type": "display_data"
    }
   ],
   "source": [
    "## Importing BNF Code lookup table \n",
    "chem_names = pd.read_csv(\"chem_names.csv\")\n",
    "display(chem_names.head(3))\n"
   ]
  },
  {
   "cell_type": "code",
   "execution_count": 10,
   "metadata": {},
   "outputs": [
    {
     "data": {
      "text/html": [
       "<div>\n",
       "<style scoped>\n",
       "    .dataframe tbody tr th:only-of-type {\n",
       "        vertical-align: middle;\n",
       "    }\n",
       "\n",
       "    .dataframe tbody tr th {\n",
       "        vertical-align: top;\n",
       "    }\n",
       "\n",
       "    .dataframe thead th {\n",
       "        text-align: right;\n",
       "    }\n",
       "</style>\n",
       "<table border=\"1\" class=\"dataframe\">\n",
       "  <thead>\n",
       "    <tr style=\"text-align: right;\">\n",
       "      <th></th>\n",
       "      <th>SHA</th>\n",
       "      <th>PCT</th>\n",
       "      <th>PRACTICE</th>\n",
       "      <th>BNF_CODE</th>\n",
       "      <th>BNF_NAME</th>\n",
       "      <th>ITEMS</th>\n",
       "      <th>NIC</th>\n",
       "      <th>ACT_COST</th>\n",
       "      <th>QUANTITY</th>\n",
       "      <th>PERIOD</th>\n",
       "      <th></th>\n",
       "    </tr>\n",
       "  </thead>\n",
       "  <tbody>\n",
       "    <tr>\n",
       "      <th>0</th>\n",
       "      <td>Q44</td>\n",
       "      <td>RTV</td>\n",
       "      <td>Y04937</td>\n",
       "      <td>0401010Z0AAAAAA</td>\n",
       "      <td>Zopiclone_Tab 7.5mg</td>\n",
       "      <td>6</td>\n",
       "      <td>1.56</td>\n",
       "      <td>2.12</td>\n",
       "      <td>63</td>\n",
       "      <td>201804</td>\n",
       "      <td></td>\n",
       "    </tr>\n",
       "    <tr>\n",
       "      <th>1</th>\n",
       "      <td>Q44</td>\n",
       "      <td>RTV</td>\n",
       "      <td>Y04937</td>\n",
       "      <td>0401020K0AAAHAH</td>\n",
       "      <td>Diazepam_Tab 2mg</td>\n",
       "      <td>4</td>\n",
       "      <td>0.87</td>\n",
       "      <td>1.15</td>\n",
       "      <td>73</td>\n",
       "      <td>201804</td>\n",
       "      <td></td>\n",
       "    </tr>\n",
       "    <tr>\n",
       "      <th>2</th>\n",
       "      <td>Q44</td>\n",
       "      <td>RTV</td>\n",
       "      <td>Y04937</td>\n",
       "      <td>0401020K0AAAIAI</td>\n",
       "      <td>Diazepam_Tab 5mg</td>\n",
       "      <td>2</td>\n",
       "      <td>0.46</td>\n",
       "      <td>0.56</td>\n",
       "      <td>35</td>\n",
       "      <td>201804</td>\n",
       "      <td></td>\n",
       "    </tr>\n",
       "    <tr>\n",
       "      <th>3</th>\n",
       "      <td>Q44</td>\n",
       "      <td>RTV</td>\n",
       "      <td>Y04937</td>\n",
       "      <td>0402010ABAAABAB</td>\n",
       "      <td>Quetiapine_Tab 25mg</td>\n",
       "      <td>1</td>\n",
       "      <td>2.60</td>\n",
       "      <td>2.52</td>\n",
       "      <td>14</td>\n",
       "      <td>201804</td>\n",
       "      <td></td>\n",
       "    </tr>\n",
       "    <tr>\n",
       "      <th>4</th>\n",
       "      <td>Q44</td>\n",
       "      <td>RTV</td>\n",
       "      <td>Y04937</td>\n",
       "      <td>0402010ADAAAAAA</td>\n",
       "      <td>Aripiprazole_Tab 10mg</td>\n",
       "      <td>1</td>\n",
       "      <td>1.53</td>\n",
       "      <td>1.53</td>\n",
       "      <td>14</td>\n",
       "      <td>201804</td>\n",
       "      <td></td>\n",
       "    </tr>\n",
       "  </tbody>\n",
       "</table>\n",
       "</div>"
      ],
      "text/plain": [
       "   SHA  PCT PRACTICE         BNF_CODE  \\\n",
       "0  Q44  RTV   Y04937  0401010Z0AAAAAA   \n",
       "1  Q44  RTV   Y04937  0401020K0AAAHAH   \n",
       "2  Q44  RTV   Y04937  0401020K0AAAIAI   \n",
       "3  Q44  RTV   Y04937  0402010ABAAABAB   \n",
       "4  Q44  RTV   Y04937  0402010ADAAAAAA   \n",
       "\n",
       "                                   BNF_NAME  ITEMS   NIC  ACT_COST  QUANTITY  \\\n",
       "0  Zopiclone_Tab 7.5mg                           6  1.56      2.12        63   \n",
       "1  Diazepam_Tab 2mg                              4  0.87      1.15        73   \n",
       "2  Diazepam_Tab 5mg                              2  0.46      0.56        35   \n",
       "3  Quetiapine_Tab 25mg                           1  2.60      2.52        14   \n",
       "4  Aripiprazole_Tab 10mg                         1  1.53      1.53        14   \n",
       "\n",
       "   PERIOD                      \n",
       "0  201804                      \n",
       "1  201804                      \n",
       "2  201804                      \n",
       "3  201804                      \n",
       "4  201804                      "
      ]
     },
     "metadata": {},
     "output_type": "display_data"
    }
   ],
   "source": [
    "# Importing the practice prescribing dataset \n",
    "prac_pres = pd.read_table(\"prac_pres.csv\",sep=r',')\n",
    "\n",
    "prac_pres.rename(columns={\"BNF CODE\": \"BNF_CODE\", \"BNF NAME                                    \":\"BNF_NAME\", \"ITEMS  \": \"ITEMS\", \"NIC        \": \"NIC\", \"ACT COST   \": \"ACT_COST\"}, inplace = True) \n",
    "display(prac_pres.head(5)) \n",
    "\n",
    "\n"
   ]
  },
  {
   "cell_type": "code",
   "execution_count": 83,
   "metadata": {},
   "outputs": [
    {
     "data": {
      "text/html": [
       "<div>\n",
       "<style scoped>\n",
       "    .dataframe tbody tr th:only-of-type {\n",
       "        vertical-align: middle;\n",
       "    }\n",
       "\n",
       "    .dataframe tbody tr th {\n",
       "        vertical-align: top;\n",
       "    }\n",
       "\n",
       "    .dataframe thead th {\n",
       "        text-align: right;\n",
       "    }\n",
       "</style>\n",
       "<table border=\"1\" class=\"dataframe\">\n",
       "  <thead>\n",
       "    <tr style=\"text-align: right;\">\n",
       "      <th></th>\n",
       "      <th>PUBLICATION</th>\n",
       "      <th>EXTRACT_DATE</th>\n",
       "      <th>TYPE</th>\n",
       "      <th>CCG_CODE</th>\n",
       "      <th>ONS_CCG_CODE</th>\n",
       "      <th>CODE</th>\n",
       "      <th>POSTCODE</th>\n",
       "      <th>SEX</th>\n",
       "      <th>AGE</th>\n",
       "      <th>NUMBER_OF_PATIENTS</th>\n",
       "    </tr>\n",
       "  </thead>\n",
       "  <tbody>\n",
       "    <tr>\n",
       "      <th>0</th>\n",
       "      <td>GP_PRAC_PAT_LIST</td>\n",
       "      <td>01APR2018</td>\n",
       "      <td>GP</td>\n",
       "      <td>00C</td>\n",
       "      <td>E38000042</td>\n",
       "      <td>A83005</td>\n",
       "      <td>DL1 3RT</td>\n",
       "      <td>ALL</td>\n",
       "      <td>ALL</td>\n",
       "      <td>11826</td>\n",
       "    </tr>\n",
       "    <tr>\n",
       "      <th>1</th>\n",
       "      <td>GP_PRAC_PAT_LIST</td>\n",
       "      <td>01APR2018</td>\n",
       "      <td>GP</td>\n",
       "      <td>00C</td>\n",
       "      <td>E38000042</td>\n",
       "      <td>A83006</td>\n",
       "      <td>DL3 6HZ</td>\n",
       "      <td>ALL</td>\n",
       "      <td>ALL</td>\n",
       "      <td>8044</td>\n",
       "    </tr>\n",
       "    <tr>\n",
       "      <th>2</th>\n",
       "      <td>GP_PRAC_PAT_LIST</td>\n",
       "      <td>01APR2018</td>\n",
       "      <td>GP</td>\n",
       "      <td>00C</td>\n",
       "      <td>E38000042</td>\n",
       "      <td>A83010</td>\n",
       "      <td>DL3 9JP</td>\n",
       "      <td>ALL</td>\n",
       "      <td>ALL</td>\n",
       "      <td>14070</td>\n",
       "    </tr>\n",
       "    <tr>\n",
       "      <th>3</th>\n",
       "      <td>GP_PRAC_PAT_LIST</td>\n",
       "      <td>01APR2018</td>\n",
       "      <td>GP</td>\n",
       "      <td>00C</td>\n",
       "      <td>E38000042</td>\n",
       "      <td>A83013</td>\n",
       "      <td>DL1 4YL</td>\n",
       "      <td>ALL</td>\n",
       "      <td>ALL</td>\n",
       "      <td>11298</td>\n",
       "    </tr>\n",
       "    <tr>\n",
       "      <th>4</th>\n",
       "      <td>GP_PRAC_PAT_LIST</td>\n",
       "      <td>01APR2018</td>\n",
       "      <td>GP</td>\n",
       "      <td>00C</td>\n",
       "      <td>E38000042</td>\n",
       "      <td>A83031</td>\n",
       "      <td>DL3 8SQ</td>\n",
       "      <td>ALL</td>\n",
       "      <td>ALL</td>\n",
       "      <td>10109</td>\n",
       "    </tr>\n",
       "  </tbody>\n",
       "</table>\n",
       "</div>"
      ],
      "text/plain": [
       "        PUBLICATION EXTRACT_DATE TYPE CCG_CODE ONS_CCG_CODE    CODE POSTCODE  \\\n",
       "0  GP_PRAC_PAT_LIST    01APR2018   GP      00C    E38000042  A83005  DL1 3RT   \n",
       "1  GP_PRAC_PAT_LIST    01APR2018   GP      00C    E38000042  A83006  DL3 6HZ   \n",
       "2  GP_PRAC_PAT_LIST    01APR2018   GP      00C    E38000042  A83010  DL3 9JP   \n",
       "3  GP_PRAC_PAT_LIST    01APR2018   GP      00C    E38000042  A83013  DL1 4YL   \n",
       "4  GP_PRAC_PAT_LIST    01APR2018   GP      00C    E38000042  A83031  DL3 8SQ   \n",
       "\n",
       "   SEX  AGE  NUMBER_OF_PATIENTS  \n",
       "0  ALL  ALL               11826  \n",
       "1  ALL  ALL                8044  \n",
       "2  ALL  ALL               14070  \n",
       "3  ALL  ALL               11298  \n",
       "4  ALL  ALL               10109  "
      ]
     },
     "metadata": {},
     "output_type": "display_data"
    }
   ],
   "source": [
    "#importing demographics dataset\n",
    "\n",
    "prac_demo = pd.read_csv(\"prac_demo.csv\",skipinitialspace=True)\n",
    "display(prac_demo.head(5))"
   ]
  },
  {
   "cell_type": "code",
   "execution_count": 12,
   "metadata": {},
   "outputs": [
    {
     "name": "stdout",
     "output_type": "stream",
     "text": [
      "   counter\n",
      "0     1918\n"
     ]
    }
   ],
   "source": [
    "from pandasql import PandaSQL\n",
    "pdsql = PandaSQL()\n",
    "##After inspecting the practice names dataset we notice missing values for region\n",
    "missing_region= pdsql(\"SELECT COUNT(DISTINCT Practice_ID) as counter FROM practice_names where Region is null ;\")\n",
    "print(missing_region)\n"
   ]
  },
  {
   "cell_type": "markdown",
   "metadata": {},
   "source": [
    "# Question 1 A\n",
    "\n",
    "Identify all GP practices located in London. \n",
    "\n",
    "Answer:\n",
    "In order to get the most accurate number it is better to take advantage of the CCG codes to identify practices as opposed to specifying a city or region "
   ]
  },
  {
   "cell_type": "code",
   "execution_count": 13,
   "metadata": {},
   "outputs": [
    {
     "data": {
      "text/html": [
       "<div>\n",
       "<style scoped>\n",
       "    .dataframe tbody tr th:only-of-type {\n",
       "        vertical-align: middle;\n",
       "    }\n",
       "\n",
       "    .dataframe tbody tr th {\n",
       "        vertical-align: top;\n",
       "    }\n",
       "\n",
       "    .dataframe thead th {\n",
       "        text-align: right;\n",
       "    }\n",
       "</style>\n",
       "<table border=\"1\" class=\"dataframe\">\n",
       "  <thead>\n",
       "    <tr style=\"text-align: right;\">\n",
       "      <th></th>\n",
       "      <th>number_of_practices_in_london</th>\n",
       "    </tr>\n",
       "  </thead>\n",
       "  <tbody>\n",
       "    <tr>\n",
       "      <th>0</th>\n",
       "      <td>1323</td>\n",
       "    </tr>\n",
       "  </tbody>\n",
       "</table>\n",
       "</div>"
      ],
      "text/plain": [
       "   number_of_practices_in_london\n",
       "0                           1323"
      ]
     },
     "metadata": {},
     "output_type": "display_data"
    }
   ],
   "source": [
    "london = pdsql(\"select distinct(CODE) as Practice_ID from prac_demo where CCG_CODE in('07L','07M','07N','07P','07Q','07R','09A','07T','07V','07W','07X','08A','08C','08D','08E','08F','08G','07Y','08H','08J','08K','08L','08R','08M','08N','08P','08Q','08T','08V','08W','08X','08Y');\")\n",
    "practices_in_london=pdsql(\"select count(Practice_ID) as number_of_practices_in_london from london;\")\n",
    "display(practices_in_london)"
   ]
  },
  {
   "cell_type": "markdown",
   "metadata": {},
   "source": [
    "## Question 1 B What is the Total number of patients registerd at london GP \n",
    "\n",
    "Answer:\n",
    "We can take advantage of the practice ID's already identified and use a SQL subquery to avoid any messy joins "
   ]
  },
  {
   "cell_type": "code",
   "execution_count": 14,
   "metadata": {},
   "outputs": [
    {
     "data": {
      "text/html": [
       "<div>\n",
       "<style scoped>\n",
       "    .dataframe tbody tr th:only-of-type {\n",
       "        vertical-align: middle;\n",
       "    }\n",
       "\n",
       "    .dataframe tbody tr th {\n",
       "        vertical-align: top;\n",
       "    }\n",
       "\n",
       "    .dataframe thead th {\n",
       "        text-align: right;\n",
       "    }\n",
       "</style>\n",
       "<table border=\"1\" class=\"dataframe\">\n",
       "  <thead>\n",
       "    <tr style=\"text-align: right;\">\n",
       "      <th></th>\n",
       "      <th>total_london_pats</th>\n",
       "    </tr>\n",
       "  </thead>\n",
       "  <tbody>\n",
       "    <tr>\n",
       "      <th>0</th>\n",
       "      <td>9851208</td>\n",
       "    </tr>\n",
       "  </tbody>\n",
       "</table>\n",
       "</div>"
      ],
      "text/plain": [
       "   total_london_pats\n",
       "0            9851208"
      ]
     },
     "metadata": {},
     "output_type": "display_data"
    }
   ],
   "source": [
    "total_london=pdsql('select sum(NUMBER_OF_PATIENTS) as total_london_pats from prac_demo where code in (select Practice_ID from london);')\n",
    "display(total_london)"
   ]
  },
  {
   "cell_type": "markdown",
   "metadata": {},
   "source": [
    "# Question 1C What is  The total number of prescriptions for patients in London \n",
    "\n",
    "Answer: \n",
    "We can take advantage of the items column and perform a simple summation "
   ]
  },
  {
   "cell_type": "code",
   "execution_count": 16,
   "metadata": {},
   "outputs": [
    {
     "data": {
      "text/html": [
       "<div>\n",
       "<style scoped>\n",
       "    .dataframe tbody tr th:only-of-type {\n",
       "        vertical-align: middle;\n",
       "    }\n",
       "\n",
       "    .dataframe tbody tr th {\n",
       "        vertical-align: top;\n",
       "    }\n",
       "\n",
       "    .dataframe thead th {\n",
       "        text-align: right;\n",
       "    }\n",
       "</style>\n",
       "<table border=\"1\" class=\"dataframe\">\n",
       "  <thead>\n",
       "    <tr style=\"text-align: right;\">\n",
       "      <th></th>\n",
       "      <th>total_prescriptions</th>\n",
       "    </tr>\n",
       "  </thead>\n",
       "  <tbody>\n",
       "    <tr>\n",
       "      <th>0</th>\n",
       "      <td>10528133</td>\n",
       "    </tr>\n",
       "  </tbody>\n",
       "</table>\n",
       "</div>"
      ],
      "text/plain": [
       "   total_prescriptions\n",
       "0             10528133"
      ]
     },
     "metadata": {},
     "output_type": "display_data"
    }
   ],
   "source": [
    "total_prescriptions =pdsql(\"select sum(ITEMS) AS total_prescriptions from prac_pres where PCT in('07L','07M','07N','07P','07Q','07R','09A','07T','07V','07W','07X','08A','08C','08D','08E','08F','08G','07Y','08H','08J','08K','08L','08R','08M','08N','08P','08Q','08T','08V','08W','08X','08Y');\")\n",
    "display(total_prescriptions)"
   ]
  },
  {
   "cell_type": "markdown",
   "metadata": {},
   "source": [
    "# Question 1D What is the total actual cost of these prescriptions (using the ACT COST column) \n",
    "    \n",
    "Answer:\n",
    "The total cost for all ites is already reflected in the actual cost column  \n",
    "therefore the total cost of prescription is sum of total costs "
   ]
  },
  {
   "cell_type": "code",
   "execution_count": 18,
   "metadata": {},
   "outputs": [],
   "source": [
    "#First step is to select all data for london practices to save time \n",
    "london_pres_data = pdsql(\"select * from prac_pres where PCT in ('07L','07M','07N','07P','07Q','07R','09A','07T','07V','07W','07X','08A','08C','08D','08E','08F','08G','07Y','08H','08J','08K','08L','08R','08M','08N','08P','08Q','08T','08V','08W','08X','08Y');\")"
   ]
  },
  {
   "cell_type": "code",
   "execution_count": 33,
   "metadata": {},
   "outputs": [
    {
     "data": {
      "text/html": [
       "<div>\n",
       "<style scoped>\n",
       "    .dataframe tbody tr th:only-of-type {\n",
       "        vertical-align: middle;\n",
       "    }\n",
       "\n",
       "    .dataframe tbody tr th {\n",
       "        vertical-align: top;\n",
       "    }\n",
       "\n",
       "    .dataframe thead th {\n",
       "        text-align: right;\n",
       "    }\n",
       "</style>\n",
       "<table border=\"1\" class=\"dataframe\">\n",
       "  <thead>\n",
       "    <tr style=\"text-align: right;\">\n",
       "      <th></th>\n",
       "      <th>SHA</th>\n",
       "      <th>PCT</th>\n",
       "      <th>PRACTICE</th>\n",
       "      <th>BNF_CODE</th>\n",
       "      <th>BNF_NAME</th>\n",
       "      <th>ITEMS</th>\n",
       "      <th>NIC</th>\n",
       "      <th>ACT_COST</th>\n",
       "      <th>QUANTITY</th>\n",
       "      <th>PERIOD</th>\n",
       "      <th></th>\n",
       "      <th>total_cost</th>\n",
       "    </tr>\n",
       "  </thead>\n",
       "  <tbody>\n",
       "    <tr>\n",
       "      <th>0</th>\n",
       "      <td>Q61</td>\n",
       "      <td>07L</td>\n",
       "      <td>F82001</td>\n",
       "      <td>0101010L0BEAAAI</td>\n",
       "      <td>Maalox Plus_Susp</td>\n",
       "      <td>1</td>\n",
       "      <td>2.91</td>\n",
       "      <td>2.71</td>\n",
       "      <td>250</td>\n",
       "      <td>201804</td>\n",
       "      <td></td>\n",
       "      <td>2.71</td>\n",
       "    </tr>\n",
       "    <tr>\n",
       "      <th>1</th>\n",
       "      <td>Q61</td>\n",
       "      <td>07L</td>\n",
       "      <td>F82001</td>\n",
       "      <td>0101021B0BEADAJ</td>\n",
       "      <td>Gaviscon Infant_Sach 2g (Dual Pack) S/F</td>\n",
       "      <td>1</td>\n",
       "      <td>19.28</td>\n",
       "      <td>17.89</td>\n",
       "      <td>60</td>\n",
       "      <td>201804</td>\n",
       "      <td></td>\n",
       "      <td>17.89</td>\n",
       "    </tr>\n",
       "    <tr>\n",
       "      <th>2</th>\n",
       "      <td>Q61</td>\n",
       "      <td>07L</td>\n",
       "      <td>F82001</td>\n",
       "      <td>0101021B0BEAFAH</td>\n",
       "      <td>Gaviscon_Liq Relief Peppermint</td>\n",
       "      <td>2</td>\n",
       "      <td>27.75</td>\n",
       "      <td>25.76</td>\n",
       "      <td>1800</td>\n",
       "      <td>201804</td>\n",
       "      <td></td>\n",
       "      <td>25.76</td>\n",
       "    </tr>\n",
       "    <tr>\n",
       "      <th>3</th>\n",
       "      <td>Q61</td>\n",
       "      <td>07L</td>\n",
       "      <td>F82001</td>\n",
       "      <td>0101021B0BEAIAL</td>\n",
       "      <td>Gaviscon Advance_Liq (Aniseed) (Reckitt)</td>\n",
       "      <td>10</td>\n",
       "      <td>56.32</td>\n",
       "      <td>52.36</td>\n",
       "      <td>5500</td>\n",
       "      <td>201804</td>\n",
       "      <td></td>\n",
       "      <td>52.36</td>\n",
       "    </tr>\n",
       "    <tr>\n",
       "      <th>4</th>\n",
       "      <td>Q61</td>\n",
       "      <td>07L</td>\n",
       "      <td>F82001</td>\n",
       "      <td>0101021B0BEBEAL</td>\n",
       "      <td>Gaviscon Advance_Liq (Peppermint) S/F</td>\n",
       "      <td>13</td>\n",
       "      <td>82.92</td>\n",
       "      <td>77.26</td>\n",
       "      <td>7650</td>\n",
       "      <td>201804</td>\n",
       "      <td></td>\n",
       "      <td>77.26</td>\n",
       "    </tr>\n",
       "  </tbody>\n",
       "</table>\n",
       "</div>"
      ],
      "text/plain": [
       "   SHA  PCT PRACTICE         BNF_CODE  \\\n",
       "0  Q61  07L   F82001  0101010L0BEAAAI   \n",
       "1  Q61  07L   F82001  0101021B0BEADAJ   \n",
       "2  Q61  07L   F82001  0101021B0BEAFAH   \n",
       "3  Q61  07L   F82001  0101021B0BEAIAL   \n",
       "4  Q61  07L   F82001  0101021B0BEBEAL   \n",
       "\n",
       "                                   BNF_NAME  ITEMS    NIC  ACT_COST  QUANTITY  \\\n",
       "0  Maalox Plus_Susp                              1   2.91      2.71       250   \n",
       "1  Gaviscon Infant_Sach 2g (Dual Pack) S/F       1  19.28     17.89        60   \n",
       "2  Gaviscon_Liq Relief Peppermint                2  27.75     25.76      1800   \n",
       "3  Gaviscon Advance_Liq (Aniseed) (Reckitt)     10  56.32     52.36      5500   \n",
       "4  Gaviscon Advance_Liq (Peppermint) S/F        13  82.92     77.26      7650   \n",
       "\n",
       "   PERIOD                      total_cost  \n",
       "0  201804                            2.71  \n",
       "1  201804                           17.89  \n",
       "2  201804                           25.76  \n",
       "3  201804                           52.36  \n",
       "4  201804                           77.26  "
      ]
     },
     "metadata": {},
     "output_type": "display_data"
    }
   ],
   "source": [
    "display(london_pres_data.head(5))"
   ]
  },
  {
   "cell_type": "code",
   "execution_count": 30,
   "metadata": {},
   "outputs": [],
   "source": [
    "#Firstly lets create a column that calculates the total cost for all each drug \n",
    "london_pres_data['total_cost'] =london_pres_data['ACT_COST']"
   ]
  },
  {
   "cell_type": "code",
   "execution_count": 31,
   "metadata": {},
   "outputs": [
    {
     "data": {
      "text/html": [
       "<div>\n",
       "<style scoped>\n",
       "    .dataframe tbody tr th:only-of-type {\n",
       "        vertical-align: middle;\n",
       "    }\n",
       "\n",
       "    .dataframe tbody tr th {\n",
       "        vertical-align: top;\n",
       "    }\n",
       "\n",
       "    .dataframe thead th {\n",
       "        text-align: right;\n",
       "    }\n",
       "</style>\n",
       "<table border=\"1\" class=\"dataframe\">\n",
       "  <thead>\n",
       "    <tr style=\"text-align: right;\">\n",
       "      <th></th>\n",
       "      <th>SHA</th>\n",
       "      <th>PCT</th>\n",
       "      <th>PRACTICE</th>\n",
       "      <th>BNF_CODE</th>\n",
       "      <th>BNF_NAME</th>\n",
       "      <th>ITEMS</th>\n",
       "      <th>NIC</th>\n",
       "      <th>ACT_COST</th>\n",
       "      <th>QUANTITY</th>\n",
       "      <th>PERIOD</th>\n",
       "      <th></th>\n",
       "      <th>total_cost</th>\n",
       "    </tr>\n",
       "  </thead>\n",
       "  <tbody>\n",
       "    <tr>\n",
       "      <th>0</th>\n",
       "      <td>Q61</td>\n",
       "      <td>07L</td>\n",
       "      <td>F82001</td>\n",
       "      <td>0101010L0BEAAAI</td>\n",
       "      <td>Maalox Plus_Susp</td>\n",
       "      <td>1</td>\n",
       "      <td>2.91</td>\n",
       "      <td>2.71</td>\n",
       "      <td>250</td>\n",
       "      <td>201804</td>\n",
       "      <td></td>\n",
       "      <td>2.71</td>\n",
       "    </tr>\n",
       "    <tr>\n",
       "      <th>1</th>\n",
       "      <td>Q61</td>\n",
       "      <td>07L</td>\n",
       "      <td>F82001</td>\n",
       "      <td>0101021B0BEADAJ</td>\n",
       "      <td>Gaviscon Infant_Sach 2g (Dual Pack) S/F</td>\n",
       "      <td>1</td>\n",
       "      <td>19.28</td>\n",
       "      <td>17.89</td>\n",
       "      <td>60</td>\n",
       "      <td>201804</td>\n",
       "      <td></td>\n",
       "      <td>17.89</td>\n",
       "    </tr>\n",
       "    <tr>\n",
       "      <th>2</th>\n",
       "      <td>Q61</td>\n",
       "      <td>07L</td>\n",
       "      <td>F82001</td>\n",
       "      <td>0101021B0BEAFAH</td>\n",
       "      <td>Gaviscon_Liq Relief Peppermint</td>\n",
       "      <td>2</td>\n",
       "      <td>27.75</td>\n",
       "      <td>25.76</td>\n",
       "      <td>1800</td>\n",
       "      <td>201804</td>\n",
       "      <td></td>\n",
       "      <td>25.76</td>\n",
       "    </tr>\n",
       "    <tr>\n",
       "      <th>3</th>\n",
       "      <td>Q61</td>\n",
       "      <td>07L</td>\n",
       "      <td>F82001</td>\n",
       "      <td>0101021B0BEAIAL</td>\n",
       "      <td>Gaviscon Advance_Liq (Aniseed) (Reckitt)</td>\n",
       "      <td>10</td>\n",
       "      <td>56.32</td>\n",
       "      <td>52.36</td>\n",
       "      <td>5500</td>\n",
       "      <td>201804</td>\n",
       "      <td></td>\n",
       "      <td>52.36</td>\n",
       "    </tr>\n",
       "    <tr>\n",
       "      <th>4</th>\n",
       "      <td>Q61</td>\n",
       "      <td>07L</td>\n",
       "      <td>F82001</td>\n",
       "      <td>0101021B0BEBEAL</td>\n",
       "      <td>Gaviscon Advance_Liq (Peppermint) S/F</td>\n",
       "      <td>13</td>\n",
       "      <td>82.92</td>\n",
       "      <td>77.26</td>\n",
       "      <td>7650</td>\n",
       "      <td>201804</td>\n",
       "      <td></td>\n",
       "      <td>77.26</td>\n",
       "    </tr>\n",
       "  </tbody>\n",
       "</table>\n",
       "</div>"
      ],
      "text/plain": [
       "   SHA  PCT PRACTICE         BNF_CODE  \\\n",
       "0  Q61  07L   F82001  0101010L0BEAAAI   \n",
       "1  Q61  07L   F82001  0101021B0BEADAJ   \n",
       "2  Q61  07L   F82001  0101021B0BEAFAH   \n",
       "3  Q61  07L   F82001  0101021B0BEAIAL   \n",
       "4  Q61  07L   F82001  0101021B0BEBEAL   \n",
       "\n",
       "                                   BNF_NAME  ITEMS    NIC  ACT_COST  QUANTITY  \\\n",
       "0  Maalox Plus_Susp                              1   2.91      2.71       250   \n",
       "1  Gaviscon Infant_Sach 2g (Dual Pack) S/F       1  19.28     17.89        60   \n",
       "2  Gaviscon_Liq Relief Peppermint                2  27.75     25.76      1800   \n",
       "3  Gaviscon Advance_Liq (Aniseed) (Reckitt)     10  56.32     52.36      5500   \n",
       "4  Gaviscon Advance_Liq (Peppermint) S/F        13  82.92     77.26      7650   \n",
       "\n",
       "   PERIOD                      total_cost  \n",
       "0  201804                            2.71  \n",
       "1  201804                           17.89  \n",
       "2  201804                           25.76  \n",
       "3  201804                           52.36  \n",
       "4  201804                           77.26  "
      ]
     },
     "metadata": {},
     "output_type": "display_data"
    }
   ],
   "source": [
    "display(london_pres_data.head(5))"
   ]
  },
  {
   "cell_type": "code",
   "execution_count": 32,
   "metadata": {},
   "outputs": [
    {
     "name": "stdout",
     "output_type": "stream",
     "text": [
      "77495848.00999998\n"
     ]
    }
   ],
   "source": [
    "#Now we simply sum the total_cost coulmn to get our answer\n",
    "total_cost_london = london_pres_data['total_cost'].sum()\n",
    "print(total_cost_london)"
   ]
  },
  {
   "cell_type": "markdown",
   "metadata": {},
   "source": [
    "# Question 1e: What are the top 10 most freequent drugs prescribed in london \n",
    "\n",
    "Answer:\n",
    "We can take advantage of the BNF code as its a unique identifyer of each drug in the NHS styste,. "
   ]
  },
  {
   "cell_type": "code",
   "execution_count": 35,
   "metadata": {},
   "outputs": [
    {
     "data": {
      "text/html": [
       "<div>\n",
       "<style scoped>\n",
       "    .dataframe tbody tr th:only-of-type {\n",
       "        vertical-align: middle;\n",
       "    }\n",
       "\n",
       "    .dataframe tbody tr th {\n",
       "        vertical-align: top;\n",
       "    }\n",
       "\n",
       "    .dataframe thead th {\n",
       "        text-align: right;\n",
       "    }\n",
       "</style>\n",
       "<table border=\"1\" class=\"dataframe\">\n",
       "  <thead>\n",
       "    <tr style=\"text-align: right;\">\n",
       "      <th></th>\n",
       "      <th>BNF_CODE</th>\n",
       "      <th>SUM_ITEMS</th>\n",
       "    </tr>\n",
       "  </thead>\n",
       "  <tbody>\n",
       "    <tr>\n",
       "      <th>0</th>\n",
       "      <td>0103050P0AAAAAA</td>\n",
       "      <td>240428</td>\n",
       "    </tr>\n",
       "    <tr>\n",
       "      <th>1</th>\n",
       "      <td>0601022B0AAABAB</td>\n",
       "      <td>208255</td>\n",
       "    </tr>\n",
       "    <tr>\n",
       "      <th>2</th>\n",
       "      <td>0206020A0AAAAAA</td>\n",
       "      <td>198459</td>\n",
       "    </tr>\n",
       "    <tr>\n",
       "      <th>3</th>\n",
       "      <td>0212000B0AAABAB</td>\n",
       "      <td>182861</td>\n",
       "    </tr>\n",
       "    <tr>\n",
       "      <th>4</th>\n",
       "      <td>0209000A0AAABAB</td>\n",
       "      <td>168718</td>\n",
       "    </tr>\n",
       "  </tbody>\n",
       "</table>\n",
       "</div>"
      ],
      "text/plain": [
       "          BNF_CODE  SUM_ITEMS\n",
       "0  0103050P0AAAAAA     240428\n",
       "1  0601022B0AAABAB     208255\n",
       "2  0206020A0AAAAAA     198459\n",
       "3  0212000B0AAABAB     182861\n",
       "4  0209000A0AAABAB     168718"
      ]
     },
     "metadata": {},
     "output_type": "display_data"
    }
   ],
   "source": [
    "# first lets find out the total quantity prescribed by medication  \n",
    "Total_presc_ldn = pdsql('select distinct(BNF_CODE) as BNF_CODE, sum(ITEMS) as SUM_ITEMS from london_pres_data group by 1 order by 2 desc;')\n",
    "display(Total_presc_ldn.head(5))"
   ]
  },
  {
   "cell_type": "code",
   "execution_count": 36,
   "metadata": {},
   "outputs": [
    {
     "data": {
      "text/html": [
       "<div>\n",
       "<style scoped>\n",
       "    .dataframe tbody tr th:only-of-type {\n",
       "        vertical-align: middle;\n",
       "    }\n",
       "\n",
       "    .dataframe tbody tr th {\n",
       "        vertical-align: top;\n",
       "    }\n",
       "\n",
       "    .dataframe thead th {\n",
       "        text-align: right;\n",
       "    }\n",
       "</style>\n",
       "<table border=\"1\" class=\"dataframe\">\n",
       "  <thead>\n",
       "    <tr style=\"text-align: right;\">\n",
       "      <th></th>\n",
       "      <th>BNF_CODE</th>\n",
       "      <th>SUM_ITEMS</th>\n",
       "      <th>BNF_NAME</th>\n",
       "    </tr>\n",
       "  </thead>\n",
       "  <tbody>\n",
       "    <tr>\n",
       "      <th>0</th>\n",
       "      <td>0103050P0AAAAAA</td>\n",
       "      <td>240428</td>\n",
       "      <td>Omeprazole_Cap E/C 20mg</td>\n",
       "    </tr>\n",
       "    <tr>\n",
       "      <th>1</th>\n",
       "      <td>0601022B0AAABAB</td>\n",
       "      <td>208255</td>\n",
       "      <td>Metformin HCl_Tab 500mg</td>\n",
       "    </tr>\n",
       "    <tr>\n",
       "      <th>2</th>\n",
       "      <td>0206020A0AAAAAA</td>\n",
       "      <td>198459</td>\n",
       "      <td>Amlodipine_Tab 5mg</td>\n",
       "    </tr>\n",
       "    <tr>\n",
       "      <th>3</th>\n",
       "      <td>0212000B0AAABAB</td>\n",
       "      <td>182861</td>\n",
       "      <td>Atorvastatin_Tab 20mg</td>\n",
       "    </tr>\n",
       "    <tr>\n",
       "      <th>4</th>\n",
       "      <td>0209000A0AAABAB</td>\n",
       "      <td>168718</td>\n",
       "      <td>Aspirin Disper_Tab 75mg</td>\n",
       "    </tr>\n",
       "    <tr>\n",
       "      <th>5</th>\n",
       "      <td>0206020A0AAABAB</td>\n",
       "      <td>155712</td>\n",
       "      <td>Amlodipine_Tab 10mg</td>\n",
       "    </tr>\n",
       "    <tr>\n",
       "      <th>6</th>\n",
       "      <td>0212000B0AAACAC</td>\n",
       "      <td>152073</td>\n",
       "      <td>Atorvastatin_Tab 40mg</td>\n",
       "    </tr>\n",
       "    <tr>\n",
       "      <th>7</th>\n",
       "      <td>0103050L0AAAAAA</td>\n",
       "      <td>150071</td>\n",
       "      <td>Lansoprazole_Cap 30mg (E/C Gran)</td>\n",
       "    </tr>\n",
       "    <tr>\n",
       "      <th>8</th>\n",
       "      <td>0301011R0AAAPAP</td>\n",
       "      <td>142599</td>\n",
       "      <td>Salbutamol_Inha 100mcg (200 D) CFF</td>\n",
       "    </tr>\n",
       "    <tr>\n",
       "      <th>9</th>\n",
       "      <td>0407010H0AAAMAM</td>\n",
       "      <td>123929</td>\n",
       "      <td>Paracet_Tab 500mg</td>\n",
       "    </tr>\n",
       "  </tbody>\n",
       "</table>\n",
       "</div>"
      ],
      "text/plain": [
       "          BNF_CODE  SUM_ITEMS                                  BNF_NAME\n",
       "0  0103050P0AAAAAA     240428  Omeprazole_Cap E/C 20mg                 \n",
       "1  0601022B0AAABAB     208255  Metformin HCl_Tab 500mg                 \n",
       "2  0206020A0AAAAAA     198459  Amlodipine_Tab 5mg                      \n",
       "3  0212000B0AAABAB     182861  Atorvastatin_Tab 20mg                   \n",
       "4  0209000A0AAABAB     168718  Aspirin Disper_Tab 75mg                 \n",
       "5  0206020A0AAABAB     155712  Amlodipine_Tab 10mg                     \n",
       "6  0212000B0AAACAC     152073  Atorvastatin_Tab 40mg                   \n",
       "7  0103050L0AAAAAA     150071  Lansoprazole_Cap 30mg (E/C Gran)        \n",
       "8  0301011R0AAAPAP     142599  Salbutamol_Inha 100mcg (200 D) CFF      \n",
       "9  0407010H0AAAMAM     123929  Paracet_Tab 500mg                       "
      ]
     },
     "metadata": {},
     "output_type": "display_data"
    }
   ],
   "source": [
    "#Now we will use our lookup table to create a join and generate the top ten drugs presecibed in london\n",
    "top_drugs_ldn = pdsql(\"select a.*, b.BNF_NAME from Total_presc_ldn a left outer join london_pres_data b on a.BNF_CODE = b.BNF_CODE group by a.BNF_CODE order by 2 desc;\")\n",
    "display(top_drugs_ldn.head(10))"
   ]
  },
  {
   "cell_type": "markdown",
   "metadata": {},
   "source": [
    "## Analysis:\n",
    "\n",
    "The most common prescriptions appear to be related to chronic condtions and illnesses associated with age\n",
    "The top ten prescroptions are used to treat diabeties, high blood pressure, high cholesterol and asthma "
   ]
  },
  {
   "cell_type": "markdown",
   "metadata": {},
   "source": [
    "# Question 1F: What where the 10 least prescribed drugs in london \n",
    "\n",
    "Answer: \n",
    "To solve this question we can use the previous table (top_drugs_ldn) and sort by the opposite order\n"
   ]
  },
  {
   "cell_type": "code",
   "execution_count": 37,
   "metadata": {},
   "outputs": [
    {
     "data": {
      "text/html": [
       "<div>\n",
       "<style scoped>\n",
       "    .dataframe tbody tr th:only-of-type {\n",
       "        vertical-align: middle;\n",
       "    }\n",
       "\n",
       "    .dataframe tbody tr th {\n",
       "        vertical-align: top;\n",
       "    }\n",
       "\n",
       "    .dataframe thead th {\n",
       "        text-align: right;\n",
       "    }\n",
       "</style>\n",
       "<table border=\"1\" class=\"dataframe\">\n",
       "  <thead>\n",
       "    <tr style=\"text-align: right;\">\n",
       "      <th></th>\n",
       "      <th>BNF_CODE</th>\n",
       "      <th>SUM_ITEMS</th>\n",
       "      <th>BNF_NAME</th>\n",
       "    </tr>\n",
       "  </thead>\n",
       "  <tbody>\n",
       "    <tr>\n",
       "      <th>0</th>\n",
       "      <td>0101010I0AAABAB</td>\n",
       "      <td>1</td>\n",
       "      <td>Mag Ox_Cap 100mg</td>\n",
       "    </tr>\n",
       "    <tr>\n",
       "      <th>1</th>\n",
       "      <td>0101010I0AAALAL</td>\n",
       "      <td>1</td>\n",
       "      <td>Mag Ox_Tab 160mg</td>\n",
       "    </tr>\n",
       "    <tr>\n",
       "      <th>2</th>\n",
       "      <td>0101010P0AAAAAA</td>\n",
       "      <td>1</td>\n",
       "      <td>Co-Simalcite_Susp 125mg/500mg/5ml S/F</td>\n",
       "    </tr>\n",
       "    <tr>\n",
       "      <th>3</th>\n",
       "      <td>0101010U0AAAAAA</td>\n",
       "      <td>1</td>\n",
       "      <td>Sod Cit_Oral Soln 441.17mg/5ml</td>\n",
       "    </tr>\n",
       "    <tr>\n",
       "      <th>4</th>\n",
       "      <td>0101012B0BFAABW</td>\n",
       "      <td>1</td>\n",
       "      <td>S-Bicarb_Oral Soln 420mg/5ml</td>\n",
       "    </tr>\n",
       "    <tr>\n",
       "      <th>5</th>\n",
       "      <td>010102100BBBDAI</td>\n",
       "      <td>1</td>\n",
       "      <td>Pepto-Bismol_Tab 262.5mg Chble</td>\n",
       "    </tr>\n",
       "    <tr>\n",
       "      <th>6</th>\n",
       "      <td>0101021B0BEABAG</td>\n",
       "      <td>1</td>\n",
       "      <td>Gaviscon_Tab Chble 500mg (Peppermint)</td>\n",
       "    </tr>\n",
       "    <tr>\n",
       "      <th>7</th>\n",
       "      <td>0101021B0BEAPA0</td>\n",
       "      <td>1</td>\n",
       "      <td>Gaviscon Cool_Tab Chble 250mg (P/Mint)</td>\n",
       "    </tr>\n",
       "    <tr>\n",
       "      <th>8</th>\n",
       "      <td>0101021C0BBAAAF</td>\n",
       "      <td>1</td>\n",
       "      <td>Tums_Assorted Fruit Antacid Tab</td>\n",
       "    </tr>\n",
       "    <tr>\n",
       "      <th>9</th>\n",
       "      <td>0102000AKAAABAB</td>\n",
       "      <td>1</td>\n",
       "      <td>Eluxadoline_Tab 75mg</td>\n",
       "    </tr>\n",
       "  </tbody>\n",
       "</table>\n",
       "</div>"
      ],
      "text/plain": [
       "          BNF_CODE  SUM_ITEMS                                  BNF_NAME\n",
       "0  0101010I0AAABAB          1  Mag Ox_Cap 100mg                        \n",
       "1  0101010I0AAALAL          1  Mag Ox_Tab 160mg                        \n",
       "2  0101010P0AAAAAA          1  Co-Simalcite_Susp 125mg/500mg/5ml S/F   \n",
       "3  0101010U0AAAAAA          1  Sod Cit_Oral Soln 441.17mg/5ml          \n",
       "4  0101012B0BFAABW          1  S-Bicarb_Oral Soln 420mg/5ml            \n",
       "5  010102100BBBDAI          1  Pepto-Bismol_Tab 262.5mg Chble          \n",
       "6  0101021B0BEABAG          1  Gaviscon_Tab Chble 500mg (Peppermint)   \n",
       "7  0101021B0BEAPA0          1  Gaviscon Cool_Tab Chble 250mg (P/Mint)  \n",
       "8  0101021C0BBAAAF          1  Tums_Assorted Fruit Antacid Tab         \n",
       "9  0102000AKAAABAB          1  Eluxadoline_Tab 75mg                    "
      ]
     },
     "metadata": {},
     "output_type": "display_data"
    }
   ],
   "source": [
    "bottom_drugs_ldn = pdsql('select * from top_drugs_ldn group by BNF_CODE order by 2 ;')\n",
    "display (bottom_drugs_ldn.head(10))\n"
   ]
  },
  {
   "cell_type": "markdown",
   "metadata": {},
   "source": [
    "## Analysis \n",
    "\n",
    "The ten least items prescribed appear to be related to generally self limiting conditions that patients are generally available over the counter. \n",
    "\n",
    "These include condtions such as alergies, acid refulx and diarrhea\n"
   ]
  },
  {
   "cell_type": "markdown",
   "metadata": {},
   "source": [
    "# Question 2 Repeat the previous instructions, this time for the city of Cambridge. Discuss and compare your findings with the answers for London in question 1 above using descriptive statistics.\n",
    "\n",
    "\n",
    "## Question 2a how many practices in the city of cambridge \n",
    "\n",
    "Answer:"
   ]
  },
  {
   "cell_type": "code",
   "execution_count": 38,
   "metadata": {},
   "outputs": [
    {
     "data": {
      "text/html": [
       "<div>\n",
       "<style scoped>\n",
       "    .dataframe tbody tr th:only-of-type {\n",
       "        vertical-align: middle;\n",
       "    }\n",
       "\n",
       "    .dataframe tbody tr th {\n",
       "        vertical-align: top;\n",
       "    }\n",
       "\n",
       "    .dataframe thead th {\n",
       "        text-align: right;\n",
       "    }\n",
       "</style>\n",
       "<table border=\"1\" class=\"dataframe\">\n",
       "  <thead>\n",
       "    <tr style=\"text-align: right;\">\n",
       "      <th></th>\n",
       "      <th>total_practices_in_cambridge</th>\n",
       "    </tr>\n",
       "  </thead>\n",
       "  <tbody>\n",
       "    <tr>\n",
       "      <th>0</th>\n",
       "      <td>30</td>\n",
       "    </tr>\n",
       "  </tbody>\n",
       "</table>\n",
       "</div>"
      ],
      "text/plain": [
       "   total_practices_in_cambridge\n",
       "0                            30"
      ]
     },
     "metadata": {},
     "output_type": "display_data"
    }
   ],
   "source": [
    "#We create a with all practice codes in the cambridge and petsboroug area.\n",
    "camb_prac_codes = pdsql(\"select code as practice_id from prac_demo where CCG_CODE = '06H' ;\")\n",
    "\n",
    "#Nect we can query the practice names dataset and use the above as a sub query \n",
    "camb_practices = pdsql(\"select * from practice_names_edit where Practice_ID in (select practice_id from camb_prac_codes) and city ='CAMBRIDGE';\")\n",
    "\n",
    "##The total number of practices in Cambridge is therefore \n",
    "prac_in_camb =pdsql('select count(distinct Practice_ID) as total_practices_in_cambridge from camb_practices;')\n",
    "display(prac_in_camb)                       "
   ]
  },
  {
   "cell_type": "markdown",
   "metadata": {},
   "source": [
    "# Question 2b: What is the total number of patients in cambridge \n",
    "\n",
    "Answer:"
   ]
  },
  {
   "cell_type": "code",
   "execution_count": 39,
   "metadata": {},
   "outputs": [
    {
     "data": {
      "text/html": [
       "<div>\n",
       "<style scoped>\n",
       "    .dataframe tbody tr th:only-of-type {\n",
       "        vertical-align: middle;\n",
       "    }\n",
       "\n",
       "    .dataframe tbody tr th {\n",
       "        vertical-align: top;\n",
       "    }\n",
       "\n",
       "    .dataframe thead th {\n",
       "        text-align: right;\n",
       "    }\n",
       "</style>\n",
       "<table border=\"1\" class=\"dataframe\">\n",
       "  <thead>\n",
       "    <tr style=\"text-align: right;\">\n",
       "      <th></th>\n",
       "      <th>total_camb_patients</th>\n",
       "    </tr>\n",
       "  </thead>\n",
       "  <tbody>\n",
       "    <tr>\n",
       "      <th>0</th>\n",
       "      <td>300885</td>\n",
       "    </tr>\n",
       "  </tbody>\n",
       "</table>\n",
       "</div>"
      ],
      "text/plain": [
       "   total_camb_patients\n",
       "0               300885"
      ]
     },
     "metadata": {},
     "output_type": "display_data"
    }
   ],
   "source": [
    "total_camb=pdsql('select sum(NUMBER_OF_PATIENTS) as total_camb_patients from prac_demo where code in (select Practice_ID from camb_practices);')\n",
    "display(total_camb)"
   ]
  },
  {
   "cell_type": "markdown",
   "metadata": {},
   "source": [
    "# Question 2c: What is the total number of prescriptiins in cambridge\n",
    "\n",
    "Answer:"
   ]
  },
  {
   "cell_type": "code",
   "execution_count": 40,
   "metadata": {},
   "outputs": [
    {
     "data": {
      "text/html": [
       "<div>\n",
       "<style scoped>\n",
       "    .dataframe tbody tr th:only-of-type {\n",
       "        vertical-align: middle;\n",
       "    }\n",
       "\n",
       "    .dataframe tbody tr th {\n",
       "        vertical-align: top;\n",
       "    }\n",
       "\n",
       "    .dataframe thead th {\n",
       "        text-align: right;\n",
       "    }\n",
       "</style>\n",
       "<table border=\"1\" class=\"dataframe\">\n",
       "  <thead>\n",
       "    <tr style=\"text-align: right;\">\n",
       "      <th></th>\n",
       "      <th>total_prescriptions</th>\n",
       "    </tr>\n",
       "  </thead>\n",
       "  <tbody>\n",
       "    <tr>\n",
       "      <th>0</th>\n",
       "      <td>1392205</td>\n",
       "    </tr>\n",
       "  </tbody>\n",
       "</table>\n",
       "</div>"
      ],
      "text/plain": [
       "   total_prescriptions\n",
       "0              1392205"
      ]
     },
     "metadata": {},
     "output_type": "display_data"
    }
   ],
   "source": [
    "total_prescriptions_camb =pdsql(\"select sum(ITEMS) AS total_prescriptions from prac_pres where PRACTICE in(select practice_id from camb_prac_codes);\")\n",
    "display(total_prescriptions_camb)"
   ]
  },
  {
   "cell_type": "markdown",
   "metadata": {},
   "source": [
    "# Question 2d: What is the total actual cost of these prescriptions (using the ACT COST column) for cambridge\n",
    "\n",
    "Answer:\n",
    "The total cost is the summation of the actual cost for each drug "
   ]
  },
  {
   "cell_type": "code",
   "execution_count": 42,
   "metadata": {},
   "outputs": [],
   "source": [
    "#First we will create a subset of the prac_pres dataset \n",
    "camb_pres= pdsql(\"select  * from prac_pres where PRACTICE in(select practice_id from camb_prac_codes);\")\n"
   ]
  },
  {
   "cell_type": "code",
   "execution_count": 43,
   "metadata": {},
   "outputs": [
    {
     "name": "stdout",
     "output_type": "stream",
     "text": [
      "9272978.659999998\n"
     ]
    }
   ],
   "source": [
    "#now we calculate the total cost as sum(actual costs)\n",
    "camb_pres['total_cost']=camb_pres['ACT_COST']\n",
    "camb_cost = camb_pres['total_cost'].sum()\n",
    "print(camb_cost)"
   ]
  },
  {
   "cell_type": "markdown",
   "metadata": {},
   "source": [
    "# Question 2e: What are the top 10 most freequent drugs prescribed in cambridge?\n",
    "\n",
    "Answer:"
   ]
  },
  {
   "cell_type": "code",
   "execution_count": 46,
   "metadata": {},
   "outputs": [
    {
     "data": {
      "text/html": [
       "<div>\n",
       "<style scoped>\n",
       "    .dataframe tbody tr th:only-of-type {\n",
       "        vertical-align: middle;\n",
       "    }\n",
       "\n",
       "    .dataframe tbody tr th {\n",
       "        vertical-align: top;\n",
       "    }\n",
       "\n",
       "    .dataframe thead th {\n",
       "        text-align: right;\n",
       "    }\n",
       "</style>\n",
       "<table border=\"1\" class=\"dataframe\">\n",
       "  <thead>\n",
       "    <tr style=\"text-align: right;\">\n",
       "      <th></th>\n",
       "      <th>BNF_CODE</th>\n",
       "      <th>SUM_ITEMS</th>\n",
       "    </tr>\n",
       "  </thead>\n",
       "  <tbody>\n",
       "    <tr>\n",
       "      <th>0</th>\n",
       "      <td>0103050P0AAAAAA</td>\n",
       "      <td>45947</td>\n",
       "    </tr>\n",
       "    <tr>\n",
       "      <th>1</th>\n",
       "      <td>0209000A0AAABAB</td>\n",
       "      <td>26714</td>\n",
       "    </tr>\n",
       "    <tr>\n",
       "      <th>2</th>\n",
       "      <td>0212000B0AAABAB</td>\n",
       "      <td>25623</td>\n",
       "    </tr>\n",
       "    <tr>\n",
       "      <th>3</th>\n",
       "      <td>0206020A0AAAAAA</td>\n",
       "      <td>24582</td>\n",
       "    </tr>\n",
       "    <tr>\n",
       "      <th>4</th>\n",
       "      <td>0407010H0AAAMAM</td>\n",
       "      <td>18854</td>\n",
       "    </tr>\n",
       "  </tbody>\n",
       "</table>\n",
       "</div>"
      ],
      "text/plain": [
       "          BNF_CODE  SUM_ITEMS\n",
       "0  0103050P0AAAAAA      45947\n",
       "1  0209000A0AAABAB      26714\n",
       "2  0212000B0AAABAB      25623\n",
       "3  0206020A0AAAAAA      24582\n",
       "4  0407010H0AAAMAM      18854"
      ]
     },
     "metadata": {},
     "output_type": "display_data"
    }
   ],
   "source": [
    "# first lets find out the total quanity per prescription \n",
    "Total_presc_camb = pdsql('select distinct(BNF_CODE) as BNF_CODE, sum(ITEMS) as SUM_ITEMS from camb_pres group by 1 order by 2 desc;')\n",
    "display(Total_presc_camb.head(5))"
   ]
  },
  {
   "cell_type": "code",
   "execution_count": 48,
   "metadata": {},
   "outputs": [
    {
     "data": {
      "text/html": [
       "<div>\n",
       "<style scoped>\n",
       "    .dataframe tbody tr th:only-of-type {\n",
       "        vertical-align: middle;\n",
       "    }\n",
       "\n",
       "    .dataframe tbody tr th {\n",
       "        vertical-align: top;\n",
       "    }\n",
       "\n",
       "    .dataframe thead th {\n",
       "        text-align: right;\n",
       "    }\n",
       "</style>\n",
       "<table border=\"1\" class=\"dataframe\">\n",
       "  <thead>\n",
       "    <tr style=\"text-align: right;\">\n",
       "      <th></th>\n",
       "      <th>BNF_CODE</th>\n",
       "      <th>SUM_ITEMS</th>\n",
       "      <th>BNF_NAME</th>\n",
       "    </tr>\n",
       "  </thead>\n",
       "  <tbody>\n",
       "    <tr>\n",
       "      <th>0</th>\n",
       "      <td>0103050P0AAAAAA</td>\n",
       "      <td>45947</td>\n",
       "      <td>Omeprazole_Cap E/C 20mg</td>\n",
       "    </tr>\n",
       "    <tr>\n",
       "      <th>1</th>\n",
       "      <td>0209000A0AAABAB</td>\n",
       "      <td>26714</td>\n",
       "      <td>Aspirin Disper_Tab 75mg</td>\n",
       "    </tr>\n",
       "    <tr>\n",
       "      <th>2</th>\n",
       "      <td>0212000B0AAABAB</td>\n",
       "      <td>25623</td>\n",
       "      <td>Atorvastatin_Tab 20mg</td>\n",
       "    </tr>\n",
       "    <tr>\n",
       "      <th>3</th>\n",
       "      <td>0206020A0AAAAAA</td>\n",
       "      <td>24582</td>\n",
       "      <td>Amlodipine_Tab 5mg</td>\n",
       "    </tr>\n",
       "    <tr>\n",
       "      <th>4</th>\n",
       "      <td>0407010H0AAAMAM</td>\n",
       "      <td>18854</td>\n",
       "      <td>Paracet_Tab 500mg</td>\n",
       "    </tr>\n",
       "    <tr>\n",
       "      <th>5</th>\n",
       "      <td>0601022B0AAABAB</td>\n",
       "      <td>18171</td>\n",
       "      <td>Metformin HCl_Tab 500mg</td>\n",
       "    </tr>\n",
       "    <tr>\n",
       "      <th>6</th>\n",
       "      <td>0602010V0AABZBZ</td>\n",
       "      <td>17541</td>\n",
       "      <td>Levothyrox Sod_Tab 100mcg</td>\n",
       "    </tr>\n",
       "    <tr>\n",
       "      <th>7</th>\n",
       "      <td>0602010V0AABWBW</td>\n",
       "      <td>16103</td>\n",
       "      <td>Levothyrox Sod_Tab 25mcg</td>\n",
       "    </tr>\n",
       "    <tr>\n",
       "      <th>8</th>\n",
       "      <td>0301011R0AAAPAP</td>\n",
       "      <td>16089</td>\n",
       "      <td>Salbutamol_Inha 100mcg (200 D) CFF</td>\n",
       "    </tr>\n",
       "    <tr>\n",
       "      <th>9</th>\n",
       "      <td>0212000Y0AAADAD</td>\n",
       "      <td>16047</td>\n",
       "      <td>Simvastatin_Tab 40mg</td>\n",
       "    </tr>\n",
       "  </tbody>\n",
       "</table>\n",
       "</div>"
      ],
      "text/plain": [
       "          BNF_CODE  SUM_ITEMS                                  BNF_NAME\n",
       "0  0103050P0AAAAAA      45947  Omeprazole_Cap E/C 20mg                 \n",
       "1  0209000A0AAABAB      26714  Aspirin Disper_Tab 75mg                 \n",
       "2  0212000B0AAABAB      25623  Atorvastatin_Tab 20mg                   \n",
       "3  0206020A0AAAAAA      24582  Amlodipine_Tab 5mg                      \n",
       "4  0407010H0AAAMAM      18854  Paracet_Tab 500mg                       \n",
       "5  0601022B0AAABAB      18171  Metformin HCl_Tab 500mg                 \n",
       "6  0602010V0AABZBZ      17541  Levothyrox Sod_Tab 100mcg               \n",
       "7  0602010V0AABWBW      16103  Levothyrox Sod_Tab 25mcg                \n",
       "8  0301011R0AAAPAP      16089  Salbutamol_Inha 100mcg (200 D) CFF      \n",
       "9  0212000Y0AAADAD      16047  Simvastatin_Tab 40mg                    "
      ]
     },
     "metadata": {},
     "output_type": "display_data"
    }
   ],
   "source": [
    "#Now we will use our lookup table to create a join and generate the top ten drugs presecibed in london\n",
    "top_drugs_cam = pdsql(\"select a.*, b.BNF_NAME from Total_presc_camb a left outer join camb_pres b on a.BNF_CODE = b.BNF_CODE group by a.BNF_CODE order by 2 desc;\")\n",
    "display(top_drugs_cam.head(10))"
   ]
  },
  {
   "cell_type": "markdown",
   "metadata": {},
   "source": [
    "## Analysis \n",
    "\n",
    "We notice a similar distribution of prescriptions in cambridge and london \n",
    "a key difference appears to be the prescription of drugs for thyroid related disorders.  "
   ]
  },
  {
   "cell_type": "markdown",
   "metadata": {},
   "source": [
    "# Question 2F: What are the bottom 10 less frequent drugs prescribed\n",
    "\n",
    "Answer"
   ]
  },
  {
   "cell_type": "code",
   "execution_count": 49,
   "metadata": {},
   "outputs": [
    {
     "data": {
      "text/html": [
       "<div>\n",
       "<style scoped>\n",
       "    .dataframe tbody tr th:only-of-type {\n",
       "        vertical-align: middle;\n",
       "    }\n",
       "\n",
       "    .dataframe tbody tr th {\n",
       "        vertical-align: top;\n",
       "    }\n",
       "\n",
       "    .dataframe thead th {\n",
       "        text-align: right;\n",
       "    }\n",
       "</style>\n",
       "<table border=\"1\" class=\"dataframe\">\n",
       "  <thead>\n",
       "    <tr style=\"text-align: right;\">\n",
       "      <th></th>\n",
       "      <th>BNF_CODE</th>\n",
       "      <th>SUM_ITEMS</th>\n",
       "      <th>BNF_NAME</th>\n",
       "    </tr>\n",
       "  </thead>\n",
       "  <tbody>\n",
       "    <tr>\n",
       "      <th>0</th>\n",
       "      <td>0101010F0AAAUAU</td>\n",
       "      <td>1</td>\n",
       "      <td>Mag Carb_Heavy Cap 500mg</td>\n",
       "    </tr>\n",
       "    <tr>\n",
       "      <th>1</th>\n",
       "      <td>0101010I0AAACAC</td>\n",
       "      <td>1</td>\n",
       "      <td>Mag Ox_Cap 160mg</td>\n",
       "    </tr>\n",
       "    <tr>\n",
       "      <th>2</th>\n",
       "      <td>0101010I0AAAYAY</td>\n",
       "      <td>1</td>\n",
       "      <td>Mag Ox_Cap 500mg</td>\n",
       "    </tr>\n",
       "    <tr>\n",
       "      <th>3</th>\n",
       "      <td>0101010I0BEAAAC</td>\n",
       "      <td>1</td>\n",
       "      <td>Oromag 160_Cap</td>\n",
       "    </tr>\n",
       "    <tr>\n",
       "      <th>4</th>\n",
       "      <td>0101010N0AAABAB</td>\n",
       "      <td>1</td>\n",
       "      <td>Antacid/Oxetacaine_Oral Susp</td>\n",
       "    </tr>\n",
       "    <tr>\n",
       "      <th>5</th>\n",
       "      <td>0101010R0AAAEAE</td>\n",
       "      <td>1</td>\n",
       "      <td>Simeticone_Tab Chble 125mg</td>\n",
       "    </tr>\n",
       "    <tr>\n",
       "      <th>6</th>\n",
       "      <td>0101010R0AAAHAH</td>\n",
       "      <td>1</td>\n",
       "      <td>Simeticone_Cap 125mg</td>\n",
       "    </tr>\n",
       "    <tr>\n",
       "      <th>7</th>\n",
       "      <td>0101010R0BHAAAA</td>\n",
       "      <td>1</td>\n",
       "      <td>WindSetlers_Cap 100mg</td>\n",
       "    </tr>\n",
       "    <tr>\n",
       "      <th>8</th>\n",
       "      <td>0101012B0BIAAAB</td>\n",
       "      <td>1</td>\n",
       "      <td>Thamicarb_Oral Soln 84mg/ml</td>\n",
       "    </tr>\n",
       "    <tr>\n",
       "      <th>9</th>\n",
       "      <td>010102100AAAIAI</td>\n",
       "      <td>1</td>\n",
       "      <td>Bism Subsalic_Tab 262.5mg Chble S/F</td>\n",
       "    </tr>\n",
       "  </tbody>\n",
       "</table>\n",
       "</div>"
      ],
      "text/plain": [
       "          BNF_CODE  SUM_ITEMS                                  BNF_NAME\n",
       "0  0101010F0AAAUAU          1  Mag Carb_Heavy Cap 500mg                \n",
       "1  0101010I0AAACAC          1  Mag Ox_Cap 160mg                        \n",
       "2  0101010I0AAAYAY          1  Mag Ox_Cap 500mg                        \n",
       "3  0101010I0BEAAAC          1  Oromag 160_Cap                          \n",
       "4  0101010N0AAABAB          1  Antacid/Oxetacaine_Oral Susp            \n",
       "5  0101010R0AAAEAE          1  Simeticone_Tab Chble 125mg              \n",
       "6  0101010R0AAAHAH          1  Simeticone_Cap 125mg                    \n",
       "7  0101010R0BHAAAA          1  WindSetlers_Cap 100mg                   \n",
       "8  0101012B0BIAAAB          1  Thamicarb_Oral Soln 84mg/ml             \n",
       "9  010102100AAAIAI          1  Bism Subsalic_Tab 262.5mg Chble S/F     "
      ]
     },
     "metadata": {},
     "output_type": "display_data"
    }
   ],
   "source": [
    "bottom_drugs_cam = pdsql('select * from top_drugs_cam group by BNF_CODE order by 2 ;')\n",
    "display (bottom_drugs_cam.head(10))"
   ]
  },
  {
   "cell_type": "markdown",
   "metadata": {},
   "source": [
    "## Analysis \n",
    "\n",
    "We see a similar distribution of prescriptions as london "
   ]
  },
  {
   "cell_type": "markdown",
   "metadata": {},
   "source": [
    "# Comparison of london and cambridge prescribing information \n",
    "\n",
    "\n",
    "As can be expected london has significantly more practices and patients than cambridge "
   ]
  },
  {
   "cell_type": "code",
   "execution_count": 50,
   "metadata": {},
   "outputs": [
    {
     "data": {
      "text/html": [
       "<div>\n",
       "<style scoped>\n",
       "    .dataframe tbody tr th:only-of-type {\n",
       "        vertical-align: middle;\n",
       "    }\n",
       "\n",
       "    .dataframe tbody tr th {\n",
       "        vertical-align: top;\n",
       "    }\n",
       "\n",
       "    .dataframe thead th {\n",
       "        text-align: right;\n",
       "    }\n",
       "</style>\n",
       "<table border=\"1\" class=\"dataframe\">\n",
       "  <thead>\n",
       "    <tr style=\"text-align: right;\">\n",
       "      <th></th>\n",
       "      <th>number_of_practices_in_london</th>\n",
       "    </tr>\n",
       "  </thead>\n",
       "  <tbody>\n",
       "    <tr>\n",
       "      <th>0</th>\n",
       "      <td>1323</td>\n",
       "    </tr>\n",
       "  </tbody>\n",
       "</table>\n",
       "</div>"
      ],
      "text/plain": [
       "   number_of_practices_in_london\n",
       "0                           1323"
      ]
     },
     "metadata": {},
     "output_type": "display_data"
    },
    {
     "data": {
      "text/html": [
       "<div>\n",
       "<style scoped>\n",
       "    .dataframe tbody tr th:only-of-type {\n",
       "        vertical-align: middle;\n",
       "    }\n",
       "\n",
       "    .dataframe tbody tr th {\n",
       "        vertical-align: top;\n",
       "    }\n",
       "\n",
       "    .dataframe thead th {\n",
       "        text-align: right;\n",
       "    }\n",
       "</style>\n",
       "<table border=\"1\" class=\"dataframe\">\n",
       "  <thead>\n",
       "    <tr style=\"text-align: right;\">\n",
       "      <th></th>\n",
       "      <th>total_practices_in_cambridge</th>\n",
       "    </tr>\n",
       "  </thead>\n",
       "  <tbody>\n",
       "    <tr>\n",
       "      <th>0</th>\n",
       "      <td>30</td>\n",
       "    </tr>\n",
       "  </tbody>\n",
       "</table>\n",
       "</div>"
      ],
      "text/plain": [
       "   total_practices_in_cambridge\n",
       "0                            30"
      ]
     },
     "metadata": {},
     "output_type": "display_data"
    }
   ],
   "source": [
    "display(practices_in_london)\n",
    "display ( prac_in_camb)\n"
   ]
  },
  {
   "cell_type": "markdown",
   "metadata": {},
   "source": [
    "The number of patients is also significantly larger in London versus cambridge "
   ]
  },
  {
   "cell_type": "code",
   "execution_count": 51,
   "metadata": {},
   "outputs": [
    {
     "data": {
      "text/html": [
       "<div>\n",
       "<style scoped>\n",
       "    .dataframe tbody tr th:only-of-type {\n",
       "        vertical-align: middle;\n",
       "    }\n",
       "\n",
       "    .dataframe tbody tr th {\n",
       "        vertical-align: top;\n",
       "    }\n",
       "\n",
       "    .dataframe thead th {\n",
       "        text-align: right;\n",
       "    }\n",
       "</style>\n",
       "<table border=\"1\" class=\"dataframe\">\n",
       "  <thead>\n",
       "    <tr style=\"text-align: right;\">\n",
       "      <th></th>\n",
       "      <th>total_london_pats</th>\n",
       "    </tr>\n",
       "  </thead>\n",
       "  <tbody>\n",
       "    <tr>\n",
       "      <th>0</th>\n",
       "      <td>9851208</td>\n",
       "    </tr>\n",
       "  </tbody>\n",
       "</table>\n",
       "</div>"
      ],
      "text/plain": [
       "   total_london_pats\n",
       "0            9851208"
      ]
     },
     "metadata": {},
     "output_type": "display_data"
    },
    {
     "data": {
      "text/html": [
       "<div>\n",
       "<style scoped>\n",
       "    .dataframe tbody tr th:only-of-type {\n",
       "        vertical-align: middle;\n",
       "    }\n",
       "\n",
       "    .dataframe tbody tr th {\n",
       "        vertical-align: top;\n",
       "    }\n",
       "\n",
       "    .dataframe thead th {\n",
       "        text-align: right;\n",
       "    }\n",
       "</style>\n",
       "<table border=\"1\" class=\"dataframe\">\n",
       "  <thead>\n",
       "    <tr style=\"text-align: right;\">\n",
       "      <th></th>\n",
       "      <th>total_camb_patients</th>\n",
       "    </tr>\n",
       "  </thead>\n",
       "  <tbody>\n",
       "    <tr>\n",
       "      <th>0</th>\n",
       "      <td>300885</td>\n",
       "    </tr>\n",
       "  </tbody>\n",
       "</table>\n",
       "</div>"
      ],
      "text/plain": [
       "   total_camb_patients\n",
       "0               300885"
      ]
     },
     "metadata": {},
     "output_type": "display_data"
    }
   ],
   "source": [
    "display(total_london)\n",
    "display(total_camb)"
   ]
  },
  {
   "cell_type": "markdown",
   "metadata": {},
   "source": [
    "The average cost of a prescription in london is: "
   ]
  },
  {
   "cell_type": "code",
   "execution_count": 69,
   "metadata": {},
   "outputs": [
    {
     "name": "stdout",
     "output_type": "stream",
     "text": [
      "   total_prescriptions\n",
      "0             7.360835\n"
     ]
    }
   ],
   "source": [
    "ave_cost_prescription_london = total_cost_london/total_prescriptions\n",
    "print(ave_cost_prescription_london)"
   ]
  },
  {
   "cell_type": "markdown",
   "metadata": {},
   "source": [
    "The average cost of prescription in london is 7.36"
   ]
  },
  {
   "cell_type": "markdown",
   "metadata": {},
   "source": [
    "The average cost per prescription in cambridge is:"
   ]
  },
  {
   "cell_type": "code",
   "execution_count": 71,
   "metadata": {},
   "outputs": [
    {
     "data": {
      "text/html": [
       "<div>\n",
       "<style scoped>\n",
       "    .dataframe tbody tr th:only-of-type {\n",
       "        vertical-align: middle;\n",
       "    }\n",
       "\n",
       "    .dataframe tbody tr th {\n",
       "        vertical-align: top;\n",
       "    }\n",
       "\n",
       "    .dataframe thead th {\n",
       "        text-align: right;\n",
       "    }\n",
       "</style>\n",
       "<table border=\"1\" class=\"dataframe\">\n",
       "  <thead>\n",
       "    <tr style=\"text-align: right;\">\n",
       "      <th></th>\n",
       "      <th>total_prescriptions</th>\n",
       "    </tr>\n",
       "  </thead>\n",
       "  <tbody>\n",
       "    <tr>\n",
       "      <th>0</th>\n",
       "      <td>6.660642</td>\n",
       "    </tr>\n",
       "  </tbody>\n",
       "</table>\n",
       "</div>"
      ],
      "text/plain": [
       "   total_prescriptions\n",
       "0             6.660642"
      ]
     },
     "metadata": {},
     "output_type": "display_data"
    }
   ],
   "source": [
    "ave_cost_prescription_camb = camb_cost/total_prescriptions_camb\n",
    "display(ave_cost_prescription_camb)"
   ]
  },
  {
   "cell_type": "markdown",
   "metadata": {},
   "source": [
    "## Analysis \n",
    "\n",
    "We can see that the average cost per patient registed is lower than that of London. \n",
    "This is potentially due to different population sturctures and health needs in each city. \n",
    "\n",
    "Firstly we may observe that there is a skew in age groups towards older patients in london who may require more care. \n",
    "\n",
    "Secondly these numbers must be taken as indicative as there is no way of standardising based on data in these CSV files. \n",
    "\n",
    "Descriptive statistics for this sort of analysis are somewhat problematic as they are incredibly crude, there is very little to adjust for without linking in external datasets.\n"
   ]
  },
  {
   "cell_type": "markdown",
   "metadata": {},
   "source": [
    "# Question 3: Describe total number of prescriptions and their total actual cost (using the ACT COST column) across all practices for drugs related to: cardiovascular disease (British National Formulary chapter 2) and antidepressants (British National Formulary chapter 4.3)\n",
    "\n",
    "Answer:\n",
    "We can take advantage of the BNF coding structure to do this \n",
    "all drugs from chapter 2 will start with code 02 and 0403 for chapter 4.3\n"
   ]
  },
  {
   "cell_type": "code",
   "execution_count": 72,
   "metadata": {},
   "outputs": [],
   "source": [
    "#First we create two new tables one for CVD drugs the other for anti depresants \n",
    "\n",
    "cardio_drugs = pdsql('select * from prac_pres where BNF_CODE like (\"02%\");')\n",
    "anti_dep_drugs = pdsql('select * from prac_pres where BNF_CODE like (\"0403%\");')\n",
    "\n"
   ]
  },
  {
   "cell_type": "code",
   "execution_count": 79,
   "metadata": {},
   "outputs": [],
   "source": [
    "# now we can conduct the calculations rather easily \n",
    "sum_cvd_drugs_prescribed= cardio_drugs['ITEMS'].sum()\n",
    "total_cost_cvd_drugs = cardio_drugs['ACT_COST'].sum()\n",
    "ave_cost_cvd=total_cost_cvd_drugs/sum_cvd_drugs_prescribed\n",
    "sum_anti_dep_drugs_prescribed = anti_dep_drugs['ITEMS'].sum()\n",
    "total_cost_anti_dep_drugs = anti_dep_drugs['ACT_COST'].sum()\n",
    "ave_cost_anti_dep = total_cost_anti_dep_drugs/sum_anti_dep_drugs_prescribed\n",
    "\n"
   ]
  },
  {
   "cell_type": "markdown",
   "metadata": {},
   "source": [
    "The total number of drugs for cardio vascular disease prescribed across the IKL where "
   ]
  },
  {
   "cell_type": "code",
   "execution_count": 75,
   "metadata": {},
   "outputs": [
    {
     "name": "stdout",
     "output_type": "stream",
     "text": [
      "26449832\n"
     ]
    }
   ],
   "source": [
    "print(sum_cvd_drugs_prescribed)"
   ]
  },
  {
   "cell_type": "markdown",
   "metadata": {},
   "source": [
    "The total cost of these prescriptions where "
   ]
  },
  {
   "cell_type": "code",
   "execution_count": 76,
   "metadata": {},
   "outputs": [
    {
     "name": "stdout",
     "output_type": "stream",
     "text": [
      "90193834.01999994\n"
     ]
    }
   ],
   "source": [
    "print(total_cost_cvd_drugs)"
   ]
  },
  {
   "cell_type": "markdown",
   "metadata": {},
   "source": [
    "The average cost of one of these CVD drugs is"
   ]
  },
  {
   "cell_type": "code",
   "execution_count": 80,
   "metadata": {},
   "outputs": [
    {
     "name": "stdout",
     "output_type": "stream",
     "text": [
      "3.4099964801288696\n"
     ]
    }
   ],
   "source": [
    "print(ave_cost_cvd)"
   ]
  },
  {
   "cell_type": "markdown",
   "metadata": {},
   "source": [
    "The total number of antidepresent drugs prescribed across the UK where "
   ]
  },
  {
   "cell_type": "code",
   "execution_count": 77,
   "metadata": {},
   "outputs": [
    {
     "name": "stdout",
     "output_type": "stream",
     "text": [
      "5715873\n"
     ]
    }
   ],
   "source": [
    "print(sum_anti_dep_drugs_prescribed)"
   ]
  },
  {
   "cell_type": "markdown",
   "metadata": {},
   "source": [
    "the total cost of these prescriptions where "
   ]
  },
  {
   "cell_type": "code",
   "execution_count": 78,
   "metadata": {},
   "outputs": [
    {
     "name": "stdout",
     "output_type": "stream",
     "text": [
      "16853470.86\n"
     ]
    }
   ],
   "source": [
    "print(total_cost_anti_dep_drugs)"
   ]
  },
  {
   "cell_type": "markdown",
   "metadata": {},
   "source": [
    "the average cost for an antidepresent drug is "
   ]
  },
  {
   "cell_type": "code",
   "execution_count": 81,
   "metadata": {},
   "outputs": [
    {
     "name": "stdout",
     "output_type": "stream",
     "text": [
      "2.9485383702542025\n"
     ]
    }
   ],
   "source": [
    "print(ave_cost_anti_dep)"
   ]
  },
  {
   "cell_type": "markdown",
   "metadata": {},
   "source": [
    "## Analysis \n",
    "\n",
    "We can see that there is a higher number of prescriptions for CVD drugs than ANTIDEP drugs and that the \n",
    "average price of a prescrtion is of an antipdep is lower than a CVD. \n",
    "\n",
    "Once again this is a rather crude analysis and must be treated as such "
   ]
  },
  {
   "cell_type": "markdown",
   "metadata": {},
   "source": [
    "# Question 4:\n",
    "Describe the total spending and the relative costs per patient across all practices for   \n",
    "the month of April 2018:"
   ]
  },
  {
   "cell_type": "code",
   "execution_count": 84,
   "metadata": {},
   "outputs": [],
   "source": [
    "# first lets get the number of patients in each practice\n",
    "num_patients_per_practice = pdsql('select distinct(CODE) as PRACTICE, NUMBER_OF_PATIENTS FROM prac_demo GROUP BY 1;')"
   ]
  },
  {
   "cell_type": "code",
   "execution_count": 85,
   "metadata": {},
   "outputs": [],
   "source": [
    "# now we will get the total cost per practice \n",
    "costs_per_practice =pdsql('select distinct(PRACTICE) as PRACTICE, sum(ACT_COST) as total_cost from prac_pres group by 1;')"
   ]
  },
  {
   "cell_type": "code",
   "execution_count": 88,
   "metadata": {},
   "outputs": [],
   "source": [
    "# now we will link these two datasets together so we have for each practice total pats and total cost \n",
    "pats_cost_prac = pdsql('select a.*, b.total_cost from num_patients_per_practice a left outer join costs_per_practice b on a.PRACTICE = b.PRACTICE;')"
   ]
  },
  {
   "cell_type": "code",
   "execution_count": 89,
   "metadata": {},
   "outputs": [],
   "source": [
    "# now we can calculate the cost per registered pat \n",
    "pats_cost_prac['cost_per_pat']=pats_cost_prac['total_cost']/pats_cost_prac['NUMBER_OF_PATIENTS']"
   ]
  },
  {
   "cell_type": "code",
   "execution_count": 178,
   "metadata": {},
   "outputs": [
    {
     "data": {
      "text/html": [
       "<div>\n",
       "<style scoped>\n",
       "    .dataframe tbody tr th:only-of-type {\n",
       "        vertical-align: middle;\n",
       "    }\n",
       "\n",
       "    .dataframe tbody tr th {\n",
       "        vertical-align: top;\n",
       "    }\n",
       "\n",
       "    .dataframe thead th {\n",
       "        text-align: right;\n",
       "    }\n",
       "</style>\n",
       "<table border=\"1\" class=\"dataframe\">\n",
       "  <thead>\n",
       "    <tr style=\"text-align: right;\">\n",
       "      <th></th>\n",
       "      <th>PRACTICE</th>\n",
       "      <th>NUMBER_OF_PATIENTS</th>\n",
       "      <th>total_cost</th>\n",
       "      <th>cost_per_pat</th>\n",
       "    </tr>\n",
       "  </thead>\n",
       "  <tbody>\n",
       "    <tr>\n",
       "      <th>0</th>\n",
       "      <td>A81001</td>\n",
       "      <td>4086</td>\n",
       "      <td>52194.63</td>\n",
       "      <td>12.774016</td>\n",
       "    </tr>\n",
       "    <tr>\n",
       "      <th>1</th>\n",
       "      <td>A81002</td>\n",
       "      <td>19906</td>\n",
       "      <td>268607.26</td>\n",
       "      <td>13.493784</td>\n",
       "    </tr>\n",
       "    <tr>\n",
       "      <th>2</th>\n",
       "      <td>A81004</td>\n",
       "      <td>10165</td>\n",
       "      <td>139115.40</td>\n",
       "      <td>13.685726</td>\n",
       "    </tr>\n",
       "    <tr>\n",
       "      <th>3</th>\n",
       "      <td>A81005</td>\n",
       "      <td>8016</td>\n",
       "      <td>102914.06</td>\n",
       "      <td>12.838580</td>\n",
       "    </tr>\n",
       "    <tr>\n",
       "      <th>4</th>\n",
       "      <td>A81006</td>\n",
       "      <td>14497</td>\n",
       "      <td>183226.79</td>\n",
       "      <td>12.638945</td>\n",
       "    </tr>\n",
       "    <tr>\n",
       "      <th>5</th>\n",
       "      <td>A81007</td>\n",
       "      <td>9999</td>\n",
       "      <td>113105.27</td>\n",
       "      <td>11.311658</td>\n",
       "    </tr>\n",
       "    <tr>\n",
       "      <th>6</th>\n",
       "      <td>A81009</td>\n",
       "      <td>8804</td>\n",
       "      <td>105172.22</td>\n",
       "      <td>11.945959</td>\n",
       "    </tr>\n",
       "    <tr>\n",
       "      <th>7</th>\n",
       "      <td>A81011</td>\n",
       "      <td>11944</td>\n",
       "      <td>152269.65</td>\n",
       "      <td>12.748631</td>\n",
       "    </tr>\n",
       "    <tr>\n",
       "      <th>8</th>\n",
       "      <td>A81012</td>\n",
       "      <td>5005</td>\n",
       "      <td>83576.25</td>\n",
       "      <td>16.698551</td>\n",
       "    </tr>\n",
       "    <tr>\n",
       "      <th>9</th>\n",
       "      <td>A81013</td>\n",
       "      <td>6418</td>\n",
       "      <td>76632.42</td>\n",
       "      <td>11.940234</td>\n",
       "    </tr>\n",
       "  </tbody>\n",
       "</table>\n",
       "</div>"
      ],
      "text/plain": [
       "  PRACTICE  NUMBER_OF_PATIENTS  total_cost  cost_per_pat\n",
       "0   A81001                4086    52194.63     12.774016\n",
       "1   A81002               19906   268607.26     13.493784\n",
       "2   A81004               10165   139115.40     13.685726\n",
       "3   A81005                8016   102914.06     12.838580\n",
       "4   A81006               14497   183226.79     12.638945\n",
       "5   A81007                9999   113105.27     11.311658\n",
       "6   A81009                8804   105172.22     11.945959\n",
       "7   A81011               11944   152269.65     12.748631\n",
       "8   A81012                5005    83576.25     16.698551\n",
       "9   A81013                6418    76632.42     11.940234"
      ]
     },
     "metadata": {},
     "output_type": "display_data"
    }
   ],
   "source": [
    "# now we drop all missing values due to dirty data \n",
    "pats_cost_prac_clean = pdsql('select * from pats_cost_prac where total_cost is not null; ')\n",
    "\n",
    "display(pats_cost_prac_clean.head(10))\n",
    "\n",
    "\n"
   ]
  },
  {
   "cell_type": "code",
   "execution_count": 177,
   "metadata": {},
   "outputs": [],
   "source": [
    "#In order to visualise we need to import matplotlib\n",
    "import matplotlib.pyplot as plt"
   ]
  },
  {
   "cell_type": "code",
   "execution_count": 179,
   "metadata": {},
   "outputs": [
    {
     "data": {
      "image/png": "[encoded data removed]",
      "text/plain": [
       "<Figure size 432x288 with 1 Axes>"
      ]
     },
     "metadata": {
      "needs_background": "light"
     },
     "output_type": "display_data"
    }
   ],
   "source": [
    "## first we will desctbe the relationship between number of patients and total cost \n",
    "\n",
    "x = pats_cost_prac_claean['NUMBER_OF_PATIENTS']\n",
    "y = pats_cost_prac_claean['total_cost']\n",
    "\n",
    "plt.plot(x, y, 'o', color='blue');\n"
   ]
  },
  {
   "cell_type": "markdown",
   "metadata": {},
   "source": [
    "## Analysis \n",
    "\n",
    "As can be expected there is a linear relationship between the number of patients    \n",
    "registerd at a practice and the total prescribing cost for each practice. \n",
    "\n",
    "The recomended approach of showing the cost per registerd patient is demonstrated below however it is rather problematic and rather crude. The reasons for which are described further in this document. "
   ]
  },
  {
   "cell_type": "code",
   "execution_count": 206,
   "metadata": {},
   "outputs": [
    {
     "data": {
      "image/png": "[encoded data removed]",
      "text/plain": [
       "<Figure size 432x288 with 1 Axes>"
      ]
     },
     "metadata": {
      "needs_background": "light"
     },
     "output_type": "display_data"
    }
   ],
   "source": [
    "## first we will desctbe the relationship between number of patients and total cost \n",
    "x = pats_cost_prac_claean['NUMBER_OF_PATIENTS']\n",
    "y = pats_cost_prac_claean['cost_per_pat']\n",
    "y2=pd.to_numeric(y)\n",
    "\n",
    "plt.plot(x, y2, 'o', color='blue');\n",
    "plt.xticks(np.arange(min(x), max(x)+1, 10000.0))\n",
    "\n",
    "plt.show()"
   ]
  },
  {
   "cell_type": "markdown",
   "metadata": {},
   "source": [
    "in the above graph we can see that as the number of registerd patients increases\n",
    "the relative cost per patient decreases. \n",
    "\n",
    "The above relationship however dosen't take into account any confounding factos as they arent availble in the dataset \n",
    "\n"
   ]
  },
  {
   "cell_type": "code",
   "execution_count": null,
   "metadata": {},
   "outputs": [],
   "source": []
  }
 ],
 "metadata": {
  "kernelspec": {
   "display_name": "Python 3",
   "language": "python",
   "name": "python3"
  },
  "language_info": {
   "codemirror_mode": {
    "name": "ipython",
    "version": 3
   },
   "file_extension": ".py",
   "mimetype": "text/x-python",
   "name": "python",
   "nbconvert_exporter": "python",
   "pygments_lexer": "ipython3",
   "version": "3.7.1"
  }
 },
 "nbformat": 4,
 "nbformat_minor": 2
}
